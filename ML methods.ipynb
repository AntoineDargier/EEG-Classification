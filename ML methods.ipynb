{
 "cells": [
  {
   "cell_type": "markdown",
   "id": "d9e18fe1",
   "metadata": {},
   "source": [
    "https://www.ncbi.nlm.nih.gov/pmc/articles/PMC8198610/#sec3-sensors-21-03786"
   ]
  },
  {
   "cell_type": "code",
   "execution_count": 2,
   "id": "8a8df51d",
   "metadata": {},
   "outputs": [
    {
     "name": "stdout",
     "output_type": "stream",
     "text": [
      "Defaulting to user installation because normal site-packages is not writeable\n",
      "Collecting librosa\n",
      "  Using cached librosa-0.9.2-py3-none-any.whl (214 kB)\n",
      "Collecting soundfile>=0.10.2\n",
      "  Using cached soundfile-0.11.0-py2.py3-none-win_amd64.whl (1.0 MB)\n",
      "Collecting pooch>=1.0\n",
      "  Using cached pooch-1.6.0-py3-none-any.whl (56 kB)\n",
      "Requirement already satisfied: scikit-learn>=0.19.1 in c:\\users\\antoi\\appdata\\roaming\\python\\python39\\site-packages (from librosa) (1.1.3)\n",
      "Requirement already satisfied: numpy>=1.17.0 in c:\\programdata\\anaconda3\\lib\\site-packages (from librosa) (1.21.5)\n",
      "Requirement already satisfied: scipy>=1.2.0 in c:\\programdata\\anaconda3\\lib\\site-packages (from librosa) (1.7.3)\n",
      "Requirement already satisfied: decorator>=4.0.10 in c:\\programdata\\anaconda3\\lib\\site-packages (from librosa) (5.1.1)\n",
      "Collecting audioread>=2.1.9\n",
      "  Using cached audioread-3.0.0.tar.gz (377 kB)\n",
      "  Preparing metadata (setup.py): started\n",
      "  Preparing metadata (setup.py): finished with status 'done'\n",
      "Requirement already satisfied: packaging>=20.0 in c:\\programdata\\anaconda3\\lib\\site-packages (from librosa) (21.3)\n",
      "Collecting resampy>=0.2.2\n",
      "  Using cached resampy-0.4.2-py3-none-any.whl (3.1 MB)\n",
      "Requirement already satisfied: numba>=0.45.1 in c:\\programdata\\anaconda3\\lib\\site-packages (from librosa) (0.55.1)\n",
      "Requirement already satisfied: joblib>=0.14 in c:\\programdata\\anaconda3\\lib\\site-packages (from librosa) (1.1.0)\n",
      "Requirement already satisfied: setuptools in c:\\programdata\\anaconda3\\lib\\site-packages (from numba>=0.45.1->librosa) (61.2.0)\n",
      "Requirement already satisfied: llvmlite<0.39,>=0.38.0rc1 in c:\\programdata\\anaconda3\\lib\\site-packages (from numba>=0.45.1->librosa) (0.38.0)\n",
      "Requirement already satisfied: pyparsing!=3.0.5,>=2.0.2 in c:\\programdata\\anaconda3\\lib\\site-packages (from packaging>=20.0->librosa) (3.0.4)\n",
      "Requirement already satisfied: appdirs>=1.3.0 in c:\\programdata\\anaconda3\\lib\\site-packages (from pooch>=1.0->librosa) (1.4.4)\n",
      "Requirement already satisfied: requests>=2.19.0 in c:\\programdata\\anaconda3\\lib\\site-packages (from pooch>=1.0->librosa) (2.27.1)\n",
      "Requirement already satisfied: threadpoolctl>=2.0.0 in c:\\programdata\\anaconda3\\lib\\site-packages (from scikit-learn>=0.19.1->librosa) (2.2.0)\n",
      "Requirement already satisfied: cffi>=1.0 in c:\\programdata\\anaconda3\\lib\\site-packages (from soundfile>=0.10.2->librosa) (1.15.0)\n",
      "Requirement already satisfied: pycparser in c:\\programdata\\anaconda3\\lib\\site-packages (from cffi>=1.0->soundfile>=0.10.2->librosa) (2.21)\n",
      "Requirement already satisfied: certifi>=2017.4.17 in c:\\programdata\\anaconda3\\lib\\site-packages (from requests>=2.19.0->pooch>=1.0->librosa) (2021.10.8)\n",
      "Requirement already satisfied: urllib3<1.27,>=1.21.1 in c:\\programdata\\anaconda3\\lib\\site-packages (from requests>=2.19.0->pooch>=1.0->librosa) (1.26.9)\n",
      "Requirement already satisfied: charset-normalizer~=2.0.0 in c:\\programdata\\anaconda3\\lib\\site-packages (from requests>=2.19.0->pooch>=1.0->librosa) (2.0.4)\n",
      "Requirement already satisfied: idna<4,>=2.5 in c:\\programdata\\anaconda3\\lib\\site-packages (from requests>=2.19.0->pooch>=1.0->librosa) (3.3)\n",
      "Building wheels for collected packages: audioread\n",
      "  Building wheel for audioread (setup.py): started\n",
      "  Building wheel for audioread (setup.py): finished with status 'done'\n",
      "  Created wheel for audioread: filename=audioread-3.0.0-py3-none-any.whl size=23706 sha256=5e3a8467bcb69e817881d6b570720c43fd7ff5f8bba76900dd50718bed4b70f1\n",
      "  Stored in directory: c:\\users\\antoi\\appdata\\local\\pip\\cache\\wheels\\e4\\76\\a4\\cfb55573167a1f5bde7d7a348e95e509c64b2c3e8f921932c3\n",
      "Successfully built audioread\n",
      "Installing collected packages: soundfile, resampy, pooch, audioread, librosa\n",
      "Successfully installed audioread-3.0.0 librosa-0.9.2 pooch-1.6.0 resampy-0.4.2 soundfile-0.11.0\n",
      "Note: you may need to restart the kernel to use updated packages.\n"
     ]
    },
    {
     "name": "stderr",
     "output_type": "stream",
     "text": [
      "WARNING: You are using pip version 21.3.1; however, version 22.3.1 is available.\n",
      "You should consider upgrading via the 'C:\\ProgramData\\Anaconda3\\python.exe -m pip install --upgrade pip' command.\n"
     ]
    }
   ],
   "source": [
    "pip install librosa"
   ]
  },
  {
   "cell_type": "code",
   "execution_count": 162,
   "id": "034355af",
   "metadata": {},
   "outputs": [
    {
     "name": "stdout",
     "output_type": "stream",
     "text": [
      "Defaulting to user installation because normal site-packages is not writeable\n",
      "Collecting EntropyHub\n",
      "  Downloading EntropyHub-0.2-py3-none-any.whl (104 kB)\n",
      "Requirement already satisfied: numpy in c:\\programdata\\anaconda3\\lib\\site-packages (from EntropyHub) (1.21.5)\n",
      "Requirement already satisfied: requests in c:\\programdata\\anaconda3\\lib\\site-packages (from EntropyHub) (2.27.1)\n",
      "Collecting EMD-signal\n",
      "  Downloading EMD_signal-1.4.0-py3-none-any.whl (77 kB)\n",
      "Requirement already satisfied: scipy in c:\\programdata\\anaconda3\\lib\\site-packages (from EntropyHub) (1.7.3)\n",
      "Requirement already satisfied: matplotlib in c:\\programdata\\anaconda3\\lib\\site-packages (from EntropyHub) (3.5.1)\n",
      "Collecting pathos>=0.2.1\n",
      "  Downloading pathos-0.3.0-py3-none-any.whl (79 kB)\n",
      "Requirement already satisfied: tqdm==4.64.* in c:\\programdata\\anaconda3\\lib\\site-packages (from EMD-signal->EntropyHub) (4.64.0)\n",
      "Requirement already satisfied: colorama in c:\\programdata\\anaconda3\\lib\\site-packages (from tqdm==4.64.*->EMD-signal->EntropyHub) (0.4.4)\n",
      "Requirement already satisfied: pillow>=6.2.0 in c:\\programdata\\anaconda3\\lib\\site-packages (from matplotlib->EntropyHub) (9.0.1)\n",
      "Requirement already satisfied: pyparsing>=2.2.1 in c:\\programdata\\anaconda3\\lib\\site-packages (from matplotlib->EntropyHub) (3.0.4)\n",
      "Requirement already satisfied: packaging>=20.0 in c:\\programdata\\anaconda3\\lib\\site-packages (from matplotlib->EntropyHub) (21.3)\n",
      "Requirement already satisfied: fonttools>=4.22.0 in c:\\programdata\\anaconda3\\lib\\site-packages (from matplotlib->EntropyHub) (4.25.0)\n",
      "Requirement already satisfied: kiwisolver>=1.0.1 in c:\\programdata\\anaconda3\\lib\\site-packages (from matplotlib->EntropyHub) (1.3.2)\n",
      "Requirement already satisfied: python-dateutil>=2.7 in c:\\programdata\\anaconda3\\lib\\site-packages (from matplotlib->EntropyHub) (2.8.2)\n",
      "Requirement already satisfied: cycler>=0.10 in c:\\programdata\\anaconda3\\lib\\site-packages (from matplotlib->EntropyHub) (0.11.0)\n",
      "Requirement already satisfied: urllib3<1.27,>=1.21.1 in c:\\programdata\\anaconda3\\lib\\site-packages (from requests->EntropyHub) (1.26.9)\n",
      "Requirement already satisfied: certifi>=2017.4.17 in c:\\programdata\\anaconda3\\lib\\site-packages (from requests->EntropyHub) (2021.10.8)\n",
      "Requirement already satisfied: idna<4,>=2.5 in c:\\programdata\\anaconda3\\lib\\site-packages (from requests->EntropyHub) (3.3)\n",
      "Requirement already satisfied: charset-normalizer~=2.0.0 in c:\\programdata\\anaconda3\\lib\\site-packages (from requests->EntropyHub) (2.0.4)\n",
      "Collecting dill>=0.3.6\n",
      "  Downloading dill-0.3.6-py3-none-any.whl (110 kB)\n",
      "Collecting pox>=0.3.2\n",
      "  Downloading pox-0.3.2-py3-none-any.whl (29 kB)\n",
      "Collecting ppft>=1.7.6.6\n",
      "  Downloading ppft-1.7.6.6-py3-none-any.whl (52 kB)\n",
      "Collecting multiprocess>=0.70.14\n",
      "  Using cached multiprocess-0.70.14-py39-none-any.whl (132 kB)\n",
      "Requirement already satisfied: six>=1.5 in c:\\programdata\\anaconda3\\lib\\site-packages (from python-dateutil>=2.7->matplotlib->EntropyHub) (1.16.0)\n",
      "Installing collected packages: dill, ppft, pox, multiprocess, pathos, EMD-signal, EntropyHub\n",
      "  Attempting uninstall: dill\n",
      "    Found existing installation: dill 0.3.5.1\n",
      "    Uninstalling dill-0.3.5.1:\n",
      "      Successfully uninstalled dill-0.3.5.1Note: you may need to restart the kernel to use updated packages.\n",
      "  Attempting uninstall: multiprocess\n",
      "    Found existing installation: multiprocess 0.70.13\n",
      "    Uninstalling multiprocess-0.70.13:\n",
      "      Successfully uninstalled multiprocess-0.70.13\n",
      "Successfully installed EMD-signal-1.4.0 EntropyHub-0.2 dill-0.3.6 multiprocess-0.70.14 pathos-0.3.0 pox-0.3.2 ppft-1.7.6.6\n",
      "\n"
     ]
    },
    {
     "name": "stderr",
     "output_type": "stream",
     "text": [
      "ERROR: pip's dependency resolver does not currently take into account all the packages that are installed. This behaviour is the source of the following dependency conflicts.\n",
      "datasets 2.6.1 requires dill<0.3.6, but you have dill 0.3.6 which is incompatible.\n",
      "WARNING: You are using pip version 21.3.1; however, version 22.3.1 is available.\n",
      "You should consider upgrading via the 'C:\\ProgramData\\Anaconda3\\python.exe -m pip install --upgrade pip' command.\n"
     ]
    }
   ],
   "source": [
    "pip install EntropyHub"
   ]
  },
  {
   "cell_type": "code",
   "execution_count": 1,
   "id": "fd8a02bf",
   "metadata": {},
   "outputs": [],
   "source": [
    "import numpy as np\n",
    "import matplotlib.pyplot as plt\n",
    "from datetime import datetime\n",
    "from scipy.signal import spectrogram\n",
    "from sklearn.metrics import balanced_accuracy_score, cohen_kappa_score, confusion_matrix\n",
    "from sklearn.pipeline import make_pipeline\n",
    "from sklearn.preprocessing import StandardScaler\n",
    "import scipy\n",
    "import os\n",
    "import random as rd\n",
    "import pandas as pd\n",
    "import librosa\n",
    "import pyeeg\n",
    "import pywt\n",
    "\n",
    "from sklearn.model_selection import RandomizedSearchCV, GridSearchCV, train_test_split\n",
    "from sklearn.metrics import balanced_accuracy_score, cohen_kappa_score, confusion_matrix\n",
    "from sklearn.metrics import make_scorer, f1_score, accuracy_score, classification_report, log_loss\n",
    "from sklearn.metrics import roc_auc_score, confusion_matrix, roc_auc_score, roc_curve\n",
    "from sklearn.tree import DecisionTreeClassifier\n",
    "from sklearn.neighbors import KNeighborsClassifier\n",
    "from sklearn.ensemble import RandomForestClassifier, AdaBoostClassifier, GradientBoostingClassifier\n",
    "from sklearn.naive_bayes import GaussianNB\n",
    "from sklearn.discriminant_analysis import LinearDiscriminantAnalysis\n",
    "from sklearn.discriminant_analysis import QuadraticDiscriminantAnalysis\n",
    "import xgboost\n",
    "from xgboost import XGBClassifier\n",
    "from sklearn.decomposition import PCA"
   ]
  },
  {
   "cell_type": "code",
   "execution_count": 64,
   "id": "f0a586d1",
   "metadata": {},
   "outputs": [],
   "source": [
    "frequency_bands = [0.5, 4, 8, 12, 30, 100]\n",
    "EEG_FS = 250\n",
    "\n",
    "def compute_mean(input):\n",
    "    return np.mean(input)\n",
    "                   \n",
    "def compute_median(input):\n",
    "    return np.median(input)\n",
    "\n",
    "def compute_variance(input):\n",
    "    return np.var(input)\n",
    "\n",
    "def compute_std_dev(input):\n",
    "    return np.std(input)\n",
    "\n",
    "def compute_skewness(input):\n",
    "    return scipy.stats.skew(input)\n",
    "\n",
    "def compute_kurtosis(input):\n",
    "    return scipy.stats.kurtosis(input)\n",
    "\n",
    "def compute_zerocrossingrate(input):\n",
    "    a = librosa.zero_crossings(input, pad=False)\n",
    "    L= []\n",
    "    Amp_max = []\n",
    "    res = 0\n",
    "    for t in range(len(a)):\n",
    "        if a[t]:\n",
    "            L.append(t)\n",
    "    number_waves = len(L)//2\n",
    "    for i in range(number_waves-1):\n",
    "        res+= L[2*(i+1)]-L[2*i]\n",
    "    mean_period = res/(number_waves*250)\n",
    "    \n",
    "    for i in range (number_waves-1):\n",
    "        data = input[L[2*i]:L[2*(i+1)]]\n",
    "        max_amp = np.max(data)\n",
    "        Amp_max.append(max_amp)\n",
    "    \n",
    "    zero_cross = np.sum(a)\n",
    "    peak_amplitude = np.mean(Amp_max)\n",
    "    return zero_cross, peak_amplitude\n",
    "\n",
    "def hjorth(input):\n",
    "    diff_input = np.diff(input)\n",
    "    diff_diffinput = np.diff(diff_input)\n",
    "    hjorth_activity = np.var(input)\n",
    "    hjorth_mobility = np.sqrt(np.var(diff_input)/hjorth_activity)\n",
    "    hjorth_diffmobility = np.sqrt(np.var(diff_diffinput)/np.var(diff_input))\n",
    "    hjorth_complexity = hjorth_diffmobility/hjorth_mobility\n",
    "    return hjorth_mobility, hjorth_complexity\n",
    "\n",
    "def energy(input):\n",
    "    e = 0\n",
    "    for t in input:\n",
    "        e+= t**2\n",
    "    return e\n",
    "\n",
    "def compute_power_bands(input):\n",
    "    \"\"\"\n",
    "    Compute the relative spectral power for each of the frequency bands defined above\n",
    "    \"\"\"\n",
    "    res = []\n",
    "    sfreqs,t,psd = spectrogram(input,250,nperseg = 1000,noverlap = 750)\n",
    "    psd = np.mean(np.abs(psd),-1)\n",
    "    for i in range (len(frequency_bands)-1):\n",
    "        spec_power = psd[(sfreqs >= frequency_bands[i]) & (sfreqs < frequency_bands[i+1])]\n",
    "        spec_power = np.sum(spec_power)\n",
    "        res.append(spec_power / np.sum(psd))\n",
    "    return res\n",
    "\n",
    "def compute_sigma(input):\n",
    "    EEG_FS = 250\n",
    "    sfreqs,t,psd = spectrogram(input,250,nperseg = 1000,noverlap = 750)\n",
    "    psd = np.mean(np.abs(psd),-1)\n",
    "    spec_power = psd[(sfreqs >= 12) & (sfreqs < 14)]\n",
    "    spec_power = np.sum(spec_power)\n",
    "    return spec_power / np.sum(psd)\n",
    "\n",
    "def all_power_bands(input):\n",
    "    L = compute_power_bands(input)\n",
    "    L.append(compute_sigma(input))\n",
    "    return L\n",
    "\n",
    "def petrosian_fd(input, axis=-1):\n",
    "    x = np.asarray(input)\n",
    "    N = x.shape[axis]\n",
    "    nzc_deriv = compute_zerocrossingrate(np.diff(x, axis=axis))[0]\n",
    "    pfd = np.log10(N) / (np.log10(N) + np.log10(N / (N + 0.4 * nzc_deriv)))\n",
    "    return pfd\n",
    "\n",
    "def katz_fd(input, axis=-1):\n",
    "    x = np.asarray(input)\n",
    "    dists = np.abs(np.diff(x, axis=axis))\n",
    "    ll = dists.sum(axis=axis)\n",
    "    ln = np.log10(ll / dists.mean(axis=axis))\n",
    "    aux_d = x - np.take(x, indices=[0], axis=axis)\n",
    "    d = np.max(np.abs(aux_d), axis=axis)\n",
    "    kfd = np.squeeze(ln / (ln + np.log10(d / ll)))\n",
    "    if not kfd.ndim:\n",
    "        kfd = kfd.item()\n",
    "    return kfd\n",
    "\n",
    "def wrapper(input):    \n",
    "    res = []\n",
    "    res.append(compute_mean(input))\n",
    "    res.append(compute_median(input))\n",
    "    res.append(compute_std_dev(input))\n",
    "    res.append(compute_skewness(input))\n",
    "    res.append(compute_kurtosis(input))\n",
    "    res.extend(compute_zerocrossingrate(input))\n",
    "    res.extend(hjorth(input))\n",
    "    res.append(energy(input))\n",
    "    res.extend(all_power_bands(input))\n",
    "    res.append(petrosian_fd(input, axis=-1))\n",
    "    res.append(katz_fd(input, axis=-1))\n",
    "    \n",
    "    return res\n",
    "\n",
    "def wrapper2(input):    \n",
    "    res = []\n",
    "    res.append(compute_mean(input))\n",
    "    res.append(compute_median(input))\n",
    "    res.append(compute_std_dev(input))\n",
    "    res.append(compute_skewness(input))\n",
    "    res.append(compute_kurtosis(input))\n",
    "    \n",
    "    return res\n",
    "\n",
    "def wrapper3(input):    \n",
    "    res = []\n",
    "    res.append(compute_mean(input))\n",
    "    res.append(compute_median(input))\n",
    "    res.append(compute_std_dev(input))\n",
    "    res.append(compute_skewness(input))\n",
    "    res.append(compute_kurtosis(input))\n",
    "    res.extend(compute_zerocrossingrate(input))\n",
    "    res.extend(hjorth(input))\n",
    "    res.append(energy(input))\n",
    "    res.append(petrosian_fd(input, axis=-1))\n",
    "    res.append(katz_fd(input, axis=-1))\n",
    "    \n",
    "    return res"
   ]
  },
  {
   "cell_type": "code",
   "execution_count": 65,
   "id": "70e27925",
   "metadata": {},
   "outputs": [],
   "source": [
    "def feat_extract(file_name, records):\n",
    "    data_for_records = {}\n",
    "    hypnogram_for_records = {}\n",
    "    hypnograms = pd.read_csv('targets_train.csv')\n",
    "    for record in records :\n",
    "        record_number = int(record[-5])\n",
    "        data_for_record = np.load(f'{file_name}/{record}')\n",
    "        for epoch in range (data_for_record.shape[0]):\n",
    "            res = []\n",
    "            for i in range(5):              \n",
    "                data_record = data_for_record[epoch, 7500*i+1:7500*(i+1)+1]\n",
    "                stat = wrapper(data_record)\n",
    "                res.extend(stat)\n",
    "            for t in range(3):\n",
    "                data_record = data_for_record[epoch, 1500*t+37501:1500*(t+1)+37501]\n",
    "                stat = wrapper3(data_record)\n",
    "                res.extend(stat)\n",
    "            res.append(epoch/data_for_record.shape[0])\n",
    "            if epoch == 0 :\n",
    "                res = [res]\n",
    "                data_for_records[record] = pd.DataFrame(res)\n",
    "            else :\n",
    "                data_for_records[record].loc[epoch] = res\n",
    "            if epoch%100 ==0:\n",
    "                print(epoch)\n",
    "        \n",
    "        hypnogram_for_records[record] = list(hypnograms[hypnograms['record'] == record_number]['target'])\n",
    "    return data_for_records, hypnogram_for_records"
   ]
  },
  {
   "cell_type": "code",
   "execution_count": 66,
   "id": "d06abf14",
   "metadata": {},
   "outputs": [],
   "source": [
    "def test_feat_extract(file_name, records):\n",
    "    data_for_records = {}\n",
    "    for record in records :\n",
    "        record_number = int(record[-5])\n",
    "        data_for_record = np.load(f'{file_name}/{record}')\n",
    "        for epoch in range (data_for_record.shape[0]):\n",
    "            res = []\n",
    "            for i in range(5):              \n",
    "                data_record = data_for_record[epoch, 7500*i+1:7500*(i+1)+1]\n",
    "                stat = wrapper(data_record)\n",
    "                res.extend(stat)\n",
    "            for t in range(3):\n",
    "                data_record = data_for_record[epoch, 1500*t+37501:1500*(t+1)+37501]\n",
    "                stat = wrapper3(data_record)\n",
    "                res.extend(stat)\n",
    "            res.append(epoch/data_for_record.shape[0])\n",
    "            if epoch == 0 :\n",
    "                res = [res]\n",
    "                data_for_records[record] = pd.DataFrame(res)\n",
    "            else :\n",
    "                data_for_records[record].loc[epoch] = res\n",
    "            if epoch%100 ==0:\n",
    "                print(epoch)\n",
    "\n",
    "    return data_for_records"
   ]
  },
  {
   "cell_type": "code",
   "execution_count": 41,
   "id": "de6aea1b",
   "metadata": {},
   "outputs": [
    {
     "name": "stdout",
     "output_type": "stream",
     "text": [
      "Training records:  ['record_4.npy', 'record_1.npy', 'record_2.npy', 'record_6.npy', 'record_3.npy']\n",
      "Test records:  ['record_5.npy', 'record_0.npy']\n"
     ]
    }
   ],
   "source": [
    "#rd.seed(1234)\n",
    "records_list = []\n",
    "for record in os.listdir(\"training_records\"):\n",
    "    records_list.append(record)\n",
    "rd.shuffle(records_list)\n",
    "training_record,test_records = records_list[:5],records_list[5:]\n",
    "\n",
    "print('Training records: ',training_record)\n",
    "print('Test records: ', test_records)"
   ]
  },
  {
   "cell_type": "code",
   "execution_count": 67,
   "id": "160c054c",
   "metadata": {},
   "outputs": [
    {
     "name": "stdout",
     "output_type": "stream",
     "text": [
      "0\n",
      "100\n",
      "200\n",
      "300\n",
      "400\n",
      "500\n",
      "600\n",
      "700\n",
      "800\n",
      "900\n",
      "0\n",
      "100\n",
      "200\n",
      "300\n",
      "400\n",
      "500\n",
      "600\n",
      "700\n",
      "800\n",
      "0\n",
      "100\n",
      "200\n",
      "300\n",
      "400\n",
      "500\n",
      "600\n",
      "700\n",
      "800\n",
      "0\n",
      "100\n",
      "200\n",
      "300\n",
      "400\n",
      "500\n",
      "600\n",
      "700\n",
      "800\n",
      "900\n",
      "1000\n",
      "0\n",
      "100\n",
      "200\n",
      "300\n",
      "400\n",
      "500\n",
      "600\n",
      "700\n",
      "800\n",
      "0\n",
      "100\n",
      "200\n",
      "300\n",
      "400\n",
      "500\n",
      "600\n",
      "700\n",
      "800\n",
      "0\n",
      "100\n",
      "200\n",
      "300\n",
      "400\n",
      "500\n",
      "600\n",
      "700\n",
      "800\n",
      "900\n"
     ]
    }
   ],
   "source": [
    "data_for_records, hypnogram_for_records = feat_extract(\"training_records\", records_list)"
   ]
  },
  {
   "cell_type": "code",
   "execution_count": 43,
   "id": "9e0059a5",
   "metadata": {},
   "outputs": [
    {
     "name": "stdout",
     "output_type": "stream",
     "text": [
      "['record_7.npy', 'record_8.npy', 'record_9.npy']\n"
     ]
    }
   ],
   "source": [
    "test_records_list = []\n",
    "for record in os.listdir(\"test_records\"):\n",
    "    test_records_list.append(record)\n",
    "print(test_records_list)"
   ]
  },
  {
   "cell_type": "code",
   "execution_count": 68,
   "id": "b9541fdf",
   "metadata": {},
   "outputs": [
    {
     "name": "stdout",
     "output_type": "stream",
     "text": [
      "0\n",
      "100\n",
      "200\n",
      "300\n",
      "400\n",
      "500\n",
      "600\n",
      "700\n",
      "800\n",
      "900\n",
      "0\n",
      "100\n",
      "200\n",
      "300\n",
      "400\n",
      "500\n",
      "600\n",
      "700\n",
      "800\n",
      "0\n",
      "100\n",
      "200\n",
      "300\n",
      "400\n",
      "500\n",
      "600\n",
      "700\n",
      "800\n"
     ]
    }
   ],
   "source": [
    "test_data_for_records = test_feat_extract(\"test_records\", test_records_list)"
   ]
  },
  {
   "cell_type": "code",
   "execution_count": 69,
   "id": "9e071864",
   "metadata": {},
   "outputs": [
    {
     "name": "stdout",
     "output_type": "stream",
     "text": [
      "(4450, 127)\n",
      "4450\n"
     ]
    }
   ],
   "source": [
    "train = []\n",
    "y_train = []\n",
    "for record in training_record :\n",
    "    train.append(data_for_records[record])\n",
    "    y_train.extend(hypnogram_for_records[record])\n",
    "    \n",
    "X_train = pd.concat(train)\n",
    "print(X_train.shape)\n",
    "print(len(y_train))"
   ]
  },
  {
   "cell_type": "code",
   "execution_count": 70,
   "id": "27f24560",
   "metadata": {},
   "outputs": [
    {
     "name": "stdout",
     "output_type": "stream",
     "text": [
      "(1725, 127)\n",
      "1725\n"
     ]
    }
   ],
   "source": [
    "test = []\n",
    "y_test = []\n",
    "for record in test_records :\n",
    "    test.append(data_for_records[record])\n",
    "    y_test.extend(hypnogram_for_records[record])\n",
    "    \n",
    "X_test = pd.concat(test)\n",
    "print(X_test.shape)\n",
    "print(len(y_test))"
   ]
  },
  {
   "cell_type": "code",
   "execution_count": 72,
   "id": "72df1ff7",
   "metadata": {},
   "outputs": [
    {
     "name": "stdout",
     "output_type": "stream",
     "text": [
      "(6175, 127)\n",
      "6175\n"
     ]
    }
   ],
   "source": [
    "tot = []\n",
    "y_tot = []\n",
    "for record in records_list :\n",
    "    tot.append(data_for_records[record])\n",
    "    y_tot.extend(hypnogram_for_records[record])\n",
    "    \n",
    "X_tot = pd.concat(tot)\n",
    "print(X_tot.shape)\n",
    "print(len(y_tot))"
   ]
  },
  {
   "cell_type": "code",
   "execution_count": 99,
   "id": "7ad3f719",
   "metadata": {},
   "outputs": [],
   "source": [
    "corr_matrix = X_train.corr()"
   ]
  },
  {
   "cell_type": "code",
   "execution_count": 100,
   "id": "427097db",
   "metadata": {},
   "outputs": [
    {
     "data": {
      "text/plain": [
       "<matplotlib.image.AxesImage at 0x1fc072add60>"
      ]
     },
     "execution_count": 100,
     "metadata": {},
     "output_type": "execute_result"
    },
    {
     "data": {
      "image/png": "[encoded data removed]",
      "text/plain": [
       "<Figure size 1440x1440 with 1 Axes>"
      ]
     },
     "metadata": {
      "needs_background": "light"
     },
     "output_type": "display_data"
    }
   ],
   "source": [
    "plt.figure(figsize = (20,20))\n",
    "plt.imshow(corr_matrix,cmap='hot',interpolation='nearest')"
   ]
  },
  {
   "cell_type": "code",
   "execution_count": 285,
   "id": "a67caabf",
   "metadata": {},
   "outputs": [
    {
     "name": "stdout",
     "output_type": "stream",
     "text": [
      "(4450, 119)\n"
     ]
    }
   ],
   "source": [
    "X_train2 = X_train.iloc[:,0:24]\n",
    "for i in range(1, 5):\n",
    "    X_train2 = pd.concat([X_train2, X_train.iloc[:, 24*i:24*i+8]], axis = 1)\n",
    "    X_train2 = pd.concat([X_train2, X_train.iloc[:, 24*i+9:24*i+11]], axis = 1)\n",
    "    X_train2 = pd.concat([X_train2, X_train.iloc[:, 24*i+13]], axis = 1)\n",
    "    X_train2 = pd.concat([X_train2, X_train.iloc[:, 24*i+15:24*i+22]], axis = 1)\n",
    "    X_train2 = pd.concat([X_train2, X_train.iloc[:, 24*i+23]], axis = 1)\n",
    "X_train2 = pd.concat([X_train2, X_train.iloc[:, 120:139]], axis = 1)\n",
    "print(X_train2.shape)"
   ]
  },
  {
   "cell_type": "code",
   "execution_count": 286,
   "id": "fefd7ff8",
   "metadata": {},
   "outputs": [
    {
     "name": "stdout",
     "output_type": "stream",
     "text": [
      "(1725, 119)\n"
     ]
    }
   ],
   "source": [
    "X_test2 = X_test.iloc[:,0:24]\n",
    "for i in range(1, 5):\n",
    "    X_test2 = pd.concat([X_test2, X_test.iloc[:, 24*i:24*i+8]], axis = 1)\n",
    "    X_test2 = pd.concat([X_test2, X_test.iloc[:, 24*i+9:24*i+11]], axis = 1)\n",
    "    X_test2 = pd.concat([X_test2, X_test.iloc[:, 24*i+13]], axis = 1)\n",
    "    X_test2 = pd.concat([X_test2, X_test.iloc[:, 24*i+15:24*i+22]], axis = 1)\n",
    "    X_test2 = pd.concat([X_test2, X_test.iloc[:, 24*i+23]], axis = 1)\n",
    "X_test2 = pd.concat([X_test2, X_test.iloc[:, 120:139]], axis = 1)\n",
    "print(X_test2.shape)"
   ]
  },
  {
   "cell_type": "code",
   "execution_count": 277,
   "id": "5fdabffe",
   "metadata": {},
   "outputs": [
    {
     "name": "stdout",
     "output_type": "stream",
     "text": [
      "(6175, 119)\n"
     ]
    }
   ],
   "source": [
    "X_tot2 = X_tot.iloc[:,0:24]\n",
    "for i in range(1, 5):\n",
    "    X_tot2 = pd.concat([X_tot2, X_tot.iloc[:, 24*i:24*i+8]], axis = 1)\n",
    "    X_tot2 = pd.concat([X_tot2, X_tot.iloc[:, 24*i+9:24*i+11]], axis = 1)\n",
    "    X_tot2 = pd.concat([X_tot2, X_tot.iloc[:, 24*i+13]], axis = 1)\n",
    "    X_tot2 = pd.concat([X_tot2, X_tot.iloc[:, 24*i+15:24*i+22]], axis = 1)\n",
    "    X_tot2 = pd.concat([X_tot2, X_tot.iloc[:, 24*i+23]], axis = 1)\n",
    "X_tot2 = pd.concat([X_tot2, X_tot.iloc[:, 120:139]], axis = 1)\n",
    "print(X_tot2.shape)"
   ]
  },
  {
   "cell_type": "code",
   "execution_count": 71,
   "id": "7fcda648",
   "metadata": {},
   "outputs": [
    {
     "name": "stdout",
     "output_type": "stream",
     "text": [
      "macro_f1: 67.87%\n"
     ]
    }
   ],
   "source": [
    "clf = XGBClassifier()\n",
    "\n",
    "clf.fit(X_train, y_train)\n",
    "train_predictions = clf.predict(X_test)\n",
    "mf = f1_score(y_test, train_predictions,average ='macro')\n",
    "print('macro_f1: {:.2%}'.format(mf))"
   ]
  },
  {
   "cell_type": "code",
   "execution_count": 94,
   "id": "12bbbbbf",
   "metadata": {},
   "outputs": [
    {
     "data": {
      "text/html": [
       "<style>#sk-container-id-7 {color: black;background-color: white;}#sk-container-id-7 pre{padding: 0;}#sk-container-id-7 div.sk-toggleable {background-color: white;}#sk-container-id-7 label.sk-toggleable__label {cursor: pointer;display: block;width: 100%;margin-bottom: 0;padding: 0.3em;box-sizing: border-box;text-align: center;}#sk-container-id-7 label.sk-toggleable__label-arrow:before {content: \"▸\";float: left;margin-right: 0.25em;color: #696969;}#sk-container-id-7 label.sk-toggleable__label-arrow:hover:before {color: black;}#sk-container-id-7 div.sk-estimator:hover label.sk-toggleable__label-arrow:before {color: black;}#sk-container-id-7 div.sk-toggleable__content {max-height: 0;max-width: 0;overflow: hidden;text-align: left;background-color: #f0f8ff;}#sk-container-id-7 div.sk-toggleable__content pre {margin: 0.2em;color: black;border-radius: 0.25em;background-color: #f0f8ff;}#sk-container-id-7 input.sk-toggleable__control:checked~div.sk-toggleable__content {max-height: 200px;max-width: 100%;overflow: auto;}#sk-container-id-7 input.sk-toggleable__control:checked~label.sk-toggleable__label-arrow:before {content: \"▾\";}#sk-container-id-7 div.sk-estimator input.sk-toggleable__control:checked~label.sk-toggleable__label {background-color: #d4ebff;}#sk-container-id-7 div.sk-label input.sk-toggleable__control:checked~label.sk-toggleable__label {background-color: #d4ebff;}#sk-container-id-7 input.sk-hidden--visually {border: 0;clip: rect(1px 1px 1px 1px);clip: rect(1px, 1px, 1px, 1px);height: 1px;margin: -1px;overflow: hidden;padding: 0;position: absolute;width: 1px;}#sk-container-id-7 div.sk-estimator {font-family: monospace;background-color: #f0f8ff;border: 1px dotted black;border-radius: 0.25em;box-sizing: border-box;margin-bottom: 0.5em;}#sk-container-id-7 div.sk-estimator:hover {background-color: #d4ebff;}#sk-container-id-7 div.sk-parallel-item::after {content: \"\";width: 100%;border-bottom: 1px solid gray;flex-grow: 1;}#sk-container-id-7 div.sk-label:hover label.sk-toggleable__label {background-color: #d4ebff;}#sk-container-id-7 div.sk-serial::before {content: \"\";position: absolute;border-left: 1px solid gray;box-sizing: border-box;top: 0;bottom: 0;left: 50%;z-index: 0;}#sk-container-id-7 div.sk-serial {display: flex;flex-direction: column;align-items: center;background-color: white;padding-right: 0.2em;padding-left: 0.2em;position: relative;}#sk-container-id-7 div.sk-item {position: relative;z-index: 1;}#sk-container-id-7 div.sk-parallel {display: flex;align-items: stretch;justify-content: center;background-color: white;position: relative;}#sk-container-id-7 div.sk-item::before, #sk-container-id-7 div.sk-parallel-item::before {content: \"\";position: absolute;border-left: 1px solid gray;box-sizing: border-box;top: 0;bottom: 0;left: 50%;z-index: -1;}#sk-container-id-7 div.sk-parallel-item {display: flex;flex-direction: column;z-index: 1;position: relative;background-color: white;}#sk-container-id-7 div.sk-parallel-item:first-child::after {align-self: flex-end;width: 50%;}#sk-container-id-7 div.sk-parallel-item:last-child::after {align-self: flex-start;width: 50%;}#sk-container-id-7 div.sk-parallel-item:only-child::after {width: 0;}#sk-container-id-7 div.sk-dashed-wrapped {border: 1px dashed gray;margin: 0 0.4em 0.5em 0.4em;box-sizing: border-box;padding-bottom: 0.4em;background-color: white;}#sk-container-id-7 div.sk-label label {font-family: monospace;font-weight: bold;display: inline-block;line-height: 1.2em;}#sk-container-id-7 div.sk-label-container {text-align: center;}#sk-container-id-7 div.sk-container {/* jupyter's `normalize.less` sets `[hidden] { display: none; }` but bootstrap.min.css set `[hidden] { display: none !important; }` so we also need the `!important` here to be able to override the default hidden behavior on the sphinx rendered scikit-learn.org. See: https://github.com/scikit-learn/scikit-learn/issues/21755 */display: inline-block !important;position: relative;}#sk-container-id-7 div.sk-text-repr-fallback {display: none;}</style><div id=\"sk-container-id-7\" class=\"sk-top-container\"><div class=\"sk-text-repr-fallback\"><pre>XGBClassifier(base_score=0.5, booster=&#x27;gbtree&#x27;, callbacks=None,\n",
       "              colsample_bylevel=0.7, colsample_bynode=1, colsample_bytree=0.8,\n",
       "              early_stopping_rounds=None, enable_categorical=False,\n",
       "              eval_metric=None, feature_types=None, gamma=0, gpu_id=-1,\n",
       "              grow_policy=&#x27;depthwise&#x27;, importance_type=None,\n",
       "              interaction_constraints=&#x27;&#x27;, learning_rate=0.2, max_bin=256,\n",
       "              max_cat_threshold=64, max_cat_to_onehot=4, max_delta_step=0,\n",
       "              max_depth=2, max_leaves=0, min_child_weight=1, missing=nan,\n",
       "              monotone_constraints=&#x27;()&#x27;, n_estimators=200, n_jobs=0,\n",
       "              num_parallel_tree=1, objective=&#x27;multi:softprob&#x27;, predictor=&#x27;auto&#x27;, ...)</pre><b>In a Jupyter environment, please rerun this cell to show the HTML representation or trust the notebook. <br />On GitHub, the HTML representation is unable to render, please try loading this page with nbviewer.org.</b></div><div class=\"sk-container\" hidden><div class=\"sk-item\"><div class=\"sk-estimator sk-toggleable\"><input class=\"sk-toggleable__control sk-hidden--visually\" id=\"sk-estimator-id-9\" type=\"checkbox\" checked><label for=\"sk-estimator-id-9\" class=\"sk-toggleable__label sk-toggleable__label-arrow\">XGBClassifier</label><div class=\"sk-toggleable__content\"><pre>XGBClassifier(base_score=0.5, booster=&#x27;gbtree&#x27;, callbacks=None,\n",
       "              colsample_bylevel=0.7, colsample_bynode=1, colsample_bytree=0.8,\n",
       "              early_stopping_rounds=None, enable_categorical=False,\n",
       "              eval_metric=None, feature_types=None, gamma=0, gpu_id=-1,\n",
       "              grow_policy=&#x27;depthwise&#x27;, importance_type=None,\n",
       "              interaction_constraints=&#x27;&#x27;, learning_rate=0.2, max_bin=256,\n",
       "              max_cat_threshold=64, max_cat_to_onehot=4, max_delta_step=0,\n",
       "              max_depth=2, max_leaves=0, min_child_weight=1, missing=nan,\n",
       "              monotone_constraints=&#x27;()&#x27;, n_estimators=200, n_jobs=0,\n",
       "              num_parallel_tree=1, objective=&#x27;multi:softprob&#x27;, predictor=&#x27;auto&#x27;, ...)</pre></div></div></div></div></div>"
      ],
      "text/plain": [
       "XGBClassifier(base_score=0.5, booster='gbtree', callbacks=None,\n",
       "              colsample_bylevel=0.7, colsample_bynode=1, colsample_bytree=0.8,\n",
       "              early_stopping_rounds=None, enable_categorical=False,\n",
       "              eval_metric=None, feature_types=None, gamma=0, gpu_id=-1,\n",
       "              grow_policy='depthwise', importance_type=None,\n",
       "              interaction_constraints='', learning_rate=0.2, max_bin=256,\n",
       "              max_cat_threshold=64, max_cat_to_onehot=4, max_delta_step=0,\n",
       "              max_depth=2, max_leaves=0, min_child_weight=1, missing=nan,\n",
       "              monotone_constraints='()', n_estimators=200, n_jobs=0,\n",
       "              num_parallel_tree=1, objective='multi:softprob', predictor='auto', ...)"
      ]
     },
     "execution_count": 94,
     "metadata": {},
     "output_type": "execute_result"
    }
   ],
   "source": [
    "clf = XGBClassifier(n_estimators = 200, max_depth = 2, learning_rate = 0.2, subsample=0.6, colsample_bytree=0.8, colsample_bylevel=0.7)\n",
    "\n",
    "clf.fit(X_tot, y_tot)"
   ]
  },
  {
   "cell_type": "code",
   "execution_count": 92,
   "id": "e6b28fc9",
   "metadata": {},
   "outputs": [],
   "source": [
    "parameters = { 'n_estimators': [200, 500, 700, 800, 900, 1000, 1500]}"
   ]
  },
  {
   "cell_type": "code",
   "execution_count": 90,
   "id": "1d9712b2",
   "metadata": {},
   "outputs": [
    {
     "name": "stdout",
     "output_type": "stream",
     "text": [
      "Fitting 4 folds for each of 15 candidates, totalling 60 fits\n",
      "Best parameters: {'max_depth': 2, 'learning_rate': 0.2}\n",
      "Lowest f1_score:  0.6859606822994955\n"
     ]
    }
   ],
   "source": [
    "Rd_grid_search = RandomizedSearchCV(estimator=clf,\n",
    "                        param_distributions=parameters,\n",
    "                        scoring='f1_macro',\n",
    "                        n_iter=15,\n",
    "                        cv = 4,\n",
    "                        verbose=1)\n",
    "\n",
    "Rd_grid_search.fit(X_tot, y_tot)\n",
    "\n",
    "print(\"Best parameters:\", Rd_grid_search.best_params_)\n",
    "print(\"Lowest f1_score: \", Rd_grid_search.best_score_)"
   ]
  },
  {
   "cell_type": "code",
   "execution_count": 93,
   "id": "54090730",
   "metadata": {},
   "outputs": [
    {
     "name": "stdout",
     "output_type": "stream",
     "text": [
      "Fitting 4 folds for each of 7 candidates, totalling 28 fits\n",
      "Best parameters: {'n_estimators': 200}\n",
      "Lowest f1_score:  0.6849480264884975\n"
     ]
    }
   ],
   "source": [
    "grid_search = GridSearchCV(\n",
    "    estimator=clf,\n",
    "    param_grid=parameters,\n",
    "    scoring=\"f1_macro\",\n",
    "    n_jobs = 10,\n",
    "    cv = 4,\n",
    "    verbose=True\n",
    ")\n",
    "\n",
    "grid_search.fit(X_tot, y_tot)\n",
    "\n",
    "print(\"Best parameters:\", grid_search.best_params_)\n",
    "print(\"Lowest f1_score: \", grid_search.best_score_)"
   ]
  },
  {
   "cell_type": "code",
   "execution_count": 95,
   "id": "2a81d5fb",
   "metadata": {},
   "outputs": [
    {
     "name": "stdout",
     "output_type": "stream",
     "text": [
      "(936, 127)\n",
      "(847, 127)\n",
      "(863, 127)\n",
      "      identifier  target\n",
      "0          70000       0\n",
      "1          70001       0\n",
      "2          70002       0\n",
      "3          70003       0\n",
      "4          70004       0\n",
      "...          ...     ...\n",
      "2641       90858       4\n",
      "2642       90859       4\n",
      "2643       90860       2\n",
      "2644       90861       0\n",
      "2645       90862       0\n",
      "\n",
      "[2646 rows x 2 columns]\n"
     ]
    }
   ],
   "source": [
    "predictions = []\n",
    "\n",
    "test_records_list = list(test_data_for_records)\n",
    "\n",
    "for record in test_records_list:\n",
    "    record_number = int(record[-5])\n",
    "    X_sub = test_data_for_records[record]\n",
    "    \n",
    "    print(X_sub.shape)\n",
    "\n",
    "    preds = clf.predict(X_sub)\n",
    "    for i, pred in enumerate(preds):\n",
    "        predictions.append({\"identifier\":record_number * 10000 + i,'target':pred})\n",
    "\n",
    "predictions = pd.DataFrame(predictions)\n",
    "print(predictions)"
   ]
  },
  {
   "cell_type": "code",
   "execution_count": 96,
   "id": "4af1a1a5",
   "metadata": {},
   "outputs": [],
   "source": [
    "predictions.to_csv('submissionXGBC10.csv',index = None)"
   ]
  },
  {
   "cell_type": "code",
   "execution_count": 97,
   "id": "f39724e9",
   "metadata": {},
   "outputs": [],
   "source": [
    "classifiers = [\n",
    "    KNeighborsClassifier(5),\n",
    "    DecisionTreeClassifier(),\n",
    "    RandomForestClassifier(),\n",
    "    XGBClassifier(),\n",
    "    AdaBoostClassifier(),\n",
    "    GradientBoostingClassifier(),\n",
    "    GaussianNB(),\n",
    "    LinearDiscriminantAnalysis(),\n",
    "    QuadraticDiscriminantAnalysis()]"
   ]
  },
  {
   "cell_type": "code",
   "execution_count": 98,
   "id": "fa0e7f98",
   "metadata": {},
   "outputs": [
    {
     "name": "stdout",
     "output_type": "stream",
     "text": [
      "---------------------------\n",
      "KNeighborsClassifier\n",
      "----------Results----------\n",
      "macro_f1: 31.33%\n",
      "---------------------------\n",
      "DecisionTreeClassifier\n",
      "----------Results----------\n",
      "macro_f1: 52.46%\n",
      "---------------------------\n",
      "RandomForestClassifier\n",
      "----------Results----------\n",
      "macro_f1: 53.18%\n",
      "---------------------------\n",
      "XGBClassifier\n",
      "----------Results----------\n",
      "macro_f1: 67.87%\n",
      "---------------------------\n",
      "AdaBoostClassifier\n",
      "----------Results----------\n",
      "macro_f1: 58.93%\n",
      "---------------------------\n",
      "GradientBoostingClassifier\n",
      "----------Results----------\n",
      "macro_f1: 64.36%\n",
      "---------------------------\n",
      "GaussianNB\n",
      "----------Results----------\n",
      "macro_f1: 18.14%\n",
      "---------------------------\n",
      "LinearDiscriminantAnalysis\n",
      "----------Results----------\n",
      "macro_f1: 51.72%\n",
      "---------------------------\n",
      "QuadraticDiscriminantAnalysis\n",
      "----------Results----------\n",
      "macro_f1: 29.23%\n"
     ]
    }
   ],
   "source": [
    "# logging for visual comparison\n",
    "for clf_try in classifiers:\n",
    "    clf_try.fit(X_train, y_train)\n",
    "    name = clf_try.__class__.__name__\n",
    "    print(\"-\"*27)\n",
    "    print(name)\n",
    "    print('----------Results----------')\n",
    "    train_predictions = clf_try.predict(X_test)\n",
    "    mf = f1_score(y_test, train_predictions,average ='macro')\n",
    "    print('macro_f1: {:.2%}'.format(mf))"
   ]
  },
  {
   "cell_type": "code",
   "execution_count": 102,
   "id": "b5d113c2",
   "metadata": {},
   "outputs": [],
   "source": [
    "from scipy import signal"
   ]
  },
  {
   "cell_type": "code",
   "execution_count": 105,
   "id": "54dbe05d",
   "metadata": {},
   "outputs": [],
   "source": [
    "soseeg = signal.butter(10, [0.5, 50], 'bandpass', fs=250, output='sos')\n",
    "sosacc = signal.butter(10, 0.1, 'hp', fs=50, output='sos')"
   ]
  },
  {
   "cell_type": "code",
   "execution_count": 108,
   "id": "4bb84435",
   "metadata": {},
   "outputs": [
    {
     "name": "stdout",
     "output_type": "stream",
     "text": [
      "7500\n"
     ]
    }
   ],
   "source": [
    "a = np.load(f'training_records/record_2.npy')\n",
    "x = a[0, 1:7501]\n",
    "filtered = signal.sosfilt(soseeg, x)\n",
    "print(len(filtered))"
   ]
  },
  {
   "cell_type": "code",
   "execution_count": 109,
   "id": "07f65996",
   "metadata": {},
   "outputs": [],
   "source": [
    "def feat_extract_filt(file_name, records):\n",
    "    data_for_records = {}\n",
    "    hypnogram_for_records = {}\n",
    "    hypnograms = pd.read_csv('targets_train.csv')\n",
    "    for record in records :\n",
    "        record_number = int(record[-5])\n",
    "        data_for_record = np.load(f'{file_name}/{record}')\n",
    "        for epoch in range (data_for_record.shape[0]):\n",
    "            res = []\n",
    "            for i in range(5):              \n",
    "                data_record = data_for_record[epoch, 7500*i+1:7500*(i+1)+1]\n",
    "                data_record = signal.sosfilt(soseeg, data_record)\n",
    "                stat = wrapper(data_record)\n",
    "                res.extend(stat)\n",
    "            for t in range(3):\n",
    "                data_record = data_for_record[epoch, 1500*t+37501:1500*(t+1)+37501]\n",
    "                data_record = signal.sosfilt(sosacc, data_record)\n",
    "                stat = wrapper3(data_record)\n",
    "                res.extend(stat)\n",
    "            res.append(epoch/data_for_record.shape[0])\n",
    "            if epoch == 0 :\n",
    "                res = [res]\n",
    "                data_for_records[record] = pd.DataFrame(res)\n",
    "            else :\n",
    "                data_for_records[record].loc[epoch] = res\n",
    "            if epoch%100 ==0:\n",
    "                print(epoch)\n",
    "        \n",
    "        hypnogram_for_records[record] = list(hypnograms[hypnograms['record'] == record_number]['target'])\n",
    "    return data_for_records, hypnogram_for_records"
   ]
  },
  {
   "cell_type": "code",
   "execution_count": 110,
   "id": "5986d791",
   "metadata": {},
   "outputs": [],
   "source": [
    "def test_feat_extract_filt(file_name, records):\n",
    "    data_for_records = {}\n",
    "    for record in records :\n",
    "        record_number = int(record[-5])\n",
    "        data_for_record = np.load(f'{file_name}/{record}')\n",
    "        for epoch in range (data_for_record.shape[0]):\n",
    "            res = []\n",
    "            for i in range(5):              \n",
    "                data_record = data_for_record[epoch, 7500*i+1:7500*(i+1)+1]\n",
    "                data_record = signal.sosfilt(soseeg, data_record)\n",
    "                stat = wrapper(data_record)\n",
    "                res.extend(stat)\n",
    "            for t in range(3):\n",
    "                data_record = data_for_record[epoch, 1500*t+37501:1500*(t+1)+37501]\n",
    "                data_record = signal.sosfilt(sosacc, data_record)\n",
    "                stat = wrapper3(data_record)\n",
    "                res.extend(stat)\n",
    "            res.append(epoch/data_for_record.shape[0])\n",
    "            if epoch == 0 :\n",
    "                res = [res]\n",
    "                data_for_records[record] = pd.DataFrame(res)\n",
    "            else :\n",
    "                data_for_records[record].loc[epoch] = res\n",
    "            if epoch%100 ==0:\n",
    "                print(epoch)\n",
    "\n",
    "    return data_for_records"
   ]
  },
  {
   "cell_type": "code",
   "execution_count": 112,
   "id": "f2c41a16",
   "metadata": {},
   "outputs": [
    {
     "name": "stdout",
     "output_type": "stream",
     "text": [
      "0\n",
      "100\n",
      "200\n",
      "300\n",
      "400\n",
      "500\n",
      "600\n",
      "700\n",
      "800\n",
      "900\n",
      "0\n",
      "100\n",
      "200\n",
      "300\n",
      "400\n",
      "500\n",
      "600\n",
      "700\n",
      "800\n",
      "0\n",
      "100\n",
      "200\n",
      "300\n",
      "400\n",
      "500\n",
      "600\n",
      "700\n",
      "800\n",
      "0\n",
      "100\n",
      "200\n",
      "300\n",
      "400\n",
      "500\n",
      "600\n",
      "700\n",
      "800\n",
      "900\n",
      "1000\n",
      "0\n",
      "100\n",
      "200\n",
      "300\n",
      "400\n",
      "500\n",
      "600\n",
      "700\n",
      "800\n",
      "0\n",
      "100\n",
      "200\n",
      "300\n",
      "400\n",
      "500\n",
      "600\n",
      "700\n",
      "800\n",
      "0\n",
      "100\n",
      "200\n",
      "300\n",
      "400\n",
      "500\n",
      "600\n",
      "700\n",
      "800\n",
      "900\n"
     ]
    }
   ],
   "source": [
    "data_for_records2, hypnogram_for_records2 = feat_extract_filt(\"training_records\", records_list)"
   ]
  },
  {
   "cell_type": "code",
   "execution_count": 113,
   "id": "4c7ef9fd",
   "metadata": {},
   "outputs": [
    {
     "name": "stdout",
     "output_type": "stream",
     "text": [
      "0\n",
      "100\n",
      "200\n",
      "300\n",
      "400\n",
      "500\n",
      "600\n",
      "700\n",
      "800\n",
      "900\n",
      "0\n",
      "100\n",
      "200\n",
      "300\n",
      "400\n",
      "500\n",
      "600\n",
      "700\n",
      "800\n",
      "0\n",
      "100\n",
      "200\n",
      "300\n",
      "400\n",
      "500\n",
      "600\n",
      "700\n",
      "800\n"
     ]
    }
   ],
   "source": [
    "test_data_for_records2 = test_feat_extract_filt(\"test_records\", test_records_list)"
   ]
  },
  {
   "cell_type": "code",
   "execution_count": 114,
   "id": "a8aa02de",
   "metadata": {},
   "outputs": [
    {
     "name": "stdout",
     "output_type": "stream",
     "text": [
      "(4450, 127)\n",
      "4450\n"
     ]
    }
   ],
   "source": [
    "train = []\n",
    "y_train2 = []\n",
    "for record in training_record :\n",
    "    train.append(data_for_records2[record])\n",
    "    y_train2.extend(hypnogram_for_records2[record])\n",
    "    \n",
    "X_train2 = pd.concat(train)\n",
    "print(X_train2.shape)\n",
    "print(len(y_train2))"
   ]
  },
  {
   "cell_type": "code",
   "execution_count": 115,
   "id": "123e93bd",
   "metadata": {},
   "outputs": [
    {
     "name": "stdout",
     "output_type": "stream",
     "text": [
      "(1725, 127)\n",
      "1725\n"
     ]
    }
   ],
   "source": [
    "test = []\n",
    "y_test2 = []\n",
    "for record in test_records :\n",
    "    test.append(data_for_records2[record])\n",
    "    y_test2.extend(hypnogram_for_records2[record])\n",
    "    \n",
    "X_test2 = pd.concat(test)\n",
    "print(X_test2.shape)\n",
    "print(len(y_test2))"
   ]
  },
  {
   "cell_type": "code",
   "execution_count": 116,
   "id": "429bb52e",
   "metadata": {},
   "outputs": [
    {
     "name": "stdout",
     "output_type": "stream",
     "text": [
      "macro_f1: 63.96%\n"
     ]
    }
   ],
   "source": [
    "clf2 = XGBClassifier()\n",
    "\n",
    "clf2.fit(X_train2, y_train2)\n",
    "train_predictions = clf2.predict(X_test2)\n",
    "mf = f1_score(y_test2, train_predictions,average ='macro')\n",
    "print('macro_f1: {:.2%}'.format(mf))"
   ]
  }
 ],
 "metadata": {
  "kernelspec": {
   "display_name": "Python 3 (ipykernel)",
   "language": "python",
   "name": "python3"
  },
  "language_info": {
   "codemirror_mode": {
    "name": "ipython",
    "version": 3
   },
   "file_extension": ".py",
   "mimetype": "text/x-python",
   "name": "python",
   "nbconvert_exporter": "python",
   "pygments_lexer": "ipython3",
   "version": "3.9.12"
  }
 },
 "nbformat": 4,
 "nbformat_minor": 5
}
